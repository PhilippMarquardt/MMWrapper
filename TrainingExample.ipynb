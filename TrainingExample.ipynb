{
 "cells": [
  {
   "cell_type": "code",
   "execution_count": null,
   "id": "082e347b",
   "metadata": {},
   "outputs": [],
   "source": [
    "import os\n",
    "\n",
    "os.environ[\"CUDA_DEVICE_ORDER\"] = \"PCI_BUS_ID\"  # see issue #152\n",
    "os.environ[\"CUDA_VISIBLE_DEVICES\"] = \"1\"\n",
    "from mmwrapper.src.api import get_runner"
   ]
  },
  {
   "cell_type": "code",
   "execution_count": null,
   "id": "1bd60877",
   "metadata": {},
   "outputs": [],
   "source": [
    "runner = get_runner(r\"C:\\Users\\philmarq\\source\\repos\\MMWrapperRepo\\mmwrapper\\src\\configs\\object_detection\\object_detection.yaml\")"
   ]
  },
  {
   "cell_type": "code",
   "execution_count": null,
   "id": "2e62a64a",
   "metadata": {},
   "outputs": [],
   "source": [
    "runner.train()"
   ]
  },
  {
   "cell_type": "markdown",
   "id": "ff0c4119",
   "metadata": {},
   "source": [
    "# Instance seg inference"
   ]
  },
  {
   "cell_type": "code",
   "execution_count": null,
   "id": "f76e42db",
   "metadata": {},
   "outputs": [],
   "source": [
    "import os\n",
    "\n",
    "os.environ[\"CUDA_DEVICE_ORDER\"] = \"PCI_BUS_ID\"  # see issue #152\n",
    "os.environ[\"CUDA_VISIBLE_DEVICES\"] = \"0\"\n",
    "#import pydensecrf.densecrf as dcrf\n",
    "\n",
    "from mmdet.apis import init_detector, inference_detector\n",
    "\n",
    "import numpy as np\n",
    "import cv2\n",
    "\n",
    "\n",
    "\n",
    "config_file = r\"C:\\Users\\philmarq\\source\\repos\\MMWrapperRepo\\firstapitest\\20230725_162809\\vis_data\\config.py\"\n",
    "checkpoint_file = r\"C:\\Users\\philmarq\\source\\repos\\MMWrapperRepo\\firstapitest\\best_coco_bbox_mAP_epoch_16.pth\"\n",
    "\n",
    "device = 'cuda:0'\n",
    "\n",
    "model = init_detector(config_file, checkpoint_file, device=device)\n",
    "\n",
    "# Load image\n",
    "\n",
    "\n",
    "colors = [(255,0,0), (125,0,0), (0,255,0), (50, 255,0), (0,25,255), (0, 125, 0)]\n",
    "root = r\"C:\\HSA\\HSA-Data\\projects\\d55090aa-a315-4ae3-8242-b50e13e355f6\\dataset\\val2017\"\n",
    "for file in os.listdir(root):\n",
    "    img = os.path.join(root, file)\n",
    "    result = inference_detector(model, img)\n",
    "    \n",
    "    \n",
    "\n",
    "    color = (255,0,0)\n",
    "    image = cv2.imread(img)\n",
    "    #image[image>0] = 0\n",
    "    masks = result.pred_instances.masks.cpu().numpy()\n",
    "    scores = result.pred_instances.scores.cpu().numpy()\n",
    "    labels = result.pred_instances.labels.cpu().numpy()\n",
    "    bboxes = result.pred_instances.bboxes.cpu().numpy()\n",
    "    thresh = 0.75\n",
    "    \n",
    "    for mask, score,label, bbox in zip(masks, scores,  labels, bboxes):\n",
    "        if score > thresh:\n",
    "            if label == 0:  # For label == 0, draw contours\n",
    "                mask = mask.astype(np.uint8)\n",
    "                contours, _ = cv2.findContours(mask, cv2.RETR_TREE, cv2.CHAIN_APPROX_SIMPLE)\n",
    "                #contours = connect_closest_contours(contours, image, angle_tolerance = 5, fixed_threshold=50, pixel_threshold = 3)\n",
    "                #color  = np.random.rand(3) * 255\n",
    "                cv2.drawContours(image, contours, -1, color, -1)\n",
    "            else:  # For other labels, draw bounding boxes\n",
    "                color = colors[label]\n",
    "                x1, y1, x2, y2 = bbox.astype(np.int32)\n",
    "                cv2.rectangle(image, (x1, y1), (x2, y2), color, 1)\n",
    "    \n",
    "    cv2.imwrite(os.path.join(\"outputall\", file), image)"
   ]
  },
  {
   "cell_type": "code",
   "execution_count": null,
   "id": "a34af863",
   "metadata": {},
   "outputs": [],
   "source": []
  }
 ],
 "metadata": {
  "kernelspec": {
   "display_name": "Python 3 (ipykernel)",
   "language": "python",
   "name": "python3"
  },
  "language_info": {
   "codemirror_mode": {
    "name": "ipython",
    "version": 3
   },
   "file_extension": ".py",
   "mimetype": "text/x-python",
   "name": "python",
   "nbconvert_exporter": "python",
   "pygments_lexer": "ipython3",
   "version": "3.9.16"
  }
 },
 "nbformat": 4,
 "nbformat_minor": 5
}
